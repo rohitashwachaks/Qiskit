{
 "cells": [
  {
   "cell_type": "code",
   "id": "initial_id",
   "metadata": {
    "collapsed": true,
    "ExecuteTime": {
     "end_time": "2025-03-05T08:07:58.312397Z",
     "start_time": "2025-03-05T08:07:58.026623Z"
    }
   },
   "source": [
    "from qiskit import QuantumCircuit\n",
    " \n",
    "qc = QuantumCircuit(2)\n",
    "qc.qubits"
   ],
   "outputs": [
    {
     "data": {
      "text/plain": [
       "[Qubit(QuantumRegister(2, 'q'), 0), Qubit(QuantumRegister(2, 'q'), 1)]"
      ]
     },
     "execution_count": 1,
     "metadata": {},
     "output_type": "execute_result"
    }
   ],
   "execution_count": 1
  },
  {
   "cell_type": "code",
   "source": [
    "qc.x(0)  # Add X-gate to qubit 0\n",
    "qc.data"
   ],
   "metadata": {
    "collapsed": false,
    "ExecuteTime": {
     "end_time": "2025-03-05T08:07:58.331687Z",
     "start_time": "2025-03-05T08:07:58.325722Z"
    }
   },
   "id": "7670eab4cc661b7c",
   "outputs": [
    {
     "data": {
      "text/plain": [
       "[CircuitInstruction(operation=Instruction(name='x', num_qubits=1, num_clbits=0, params=[]), qubits=(Qubit(QuantumRegister(2, 'q'), 0),), clbits=())]"
      ]
     },
     "execution_count": 2,
     "metadata": {},
     "output_type": "execute_result"
    }
   ],
   "execution_count": 2
  },
  {
   "cell_type": "code",
   "source": [
    "qc.draw(\"mpl\")"
   ],
   "metadata": {
    "collapsed": false,
    "ExecuteTime": {
     "end_time": "2025-03-05T08:07:58.708795Z",
     "start_time": "2025-03-05T08:07:58.423568Z"
    }
   },
   "id": "ddb14dd1d804495f",
   "outputs": [
    {
     "data": {
      "text/plain": [
       "<Figure size 203.683x200.667 with 1 Axes>"
      ],
      "image/png": "[encoded data removed]"
     },
     "execution_count": 3,
     "metadata": {},
     "output_type": "execute_result"
    }
   ],
   "execution_count": 3
  },
  {
   "cell_type": "code",
   "source": [
    "# Draw definition circuit of 0th instruction in `qc`\n",
    "qc.data[0].operation.definition.draw('mpl')"
   ],
   "metadata": {
    "collapsed": false,
    "ExecuteTime": {
     "end_time": "2025-03-05T08:07:58.762814Z",
     "start_time": "2025-03-05T08:07:58.720687Z"
    }
   },
   "id": "7a7d7d9f6ded2b55",
   "outputs": [
    {
     "data": {
      "text/plain": [
       "<Figure size 185.453x117.056 with 1 Axes>"
      ],
      "image/png": "[encoded data removed]"
     },
     "execution_count": 4,
     "metadata": {},
     "output_type": "execute_result"
    }
   ],
   "execution_count": 4
  },
  {
   "cell_type": "code",
   "source": [
    "from qiskit.circuit.library import HGate\n",
    " \n",
    "# qc = QuantumCircuit(1)\n",
    "qc.append(HGate(), [1])\n",
    "qc.draw(\"mpl\")"
   ],
   "metadata": {
    "collapsed": false,
    "ExecuteTime": {
     "end_time": "2025-03-05T08:07:58.813531Z",
     "start_time": "2025-03-05T08:07:58.774772Z"
    }
   },
   "id": "abdd8f4b78ca4048",
   "outputs": [
    {
     "data": {
      "text/plain": [
       "<Figure size 203.683x200.667 with 1 Axes>"
      ],
      "image/png": "[encoded data removed]"
     },
     "execution_count": 5,
     "metadata": {},
     "output_type": "execute_result"
    }
   ],
   "execution_count": 5
  },
  {
   "cell_type": "code",
   "source": [
    "qc_a = QuantumCircuit(4)\n",
    "qc_a.x(0)\n",
    " \n",
    "qc_b = QuantumCircuit(2, name=\"qc_b\")\n",
    "qc_b.y(0)\n",
    "qc_b.z(1)\n",
    " \n",
    "#compose qubits (0, 1) of qc_a to qubits (1, 3) of qc_b respectively\n",
    "combined = qc_a.compose(qc_b, qubits=[1, 3])\n",
    "combined = combined.compose(qc, qubits=[2, 3])\n",
    "combined.draw()"
   ],
   "metadata": {
    "collapsed": false,
    "ExecuteTime": {
     "end_time": "2025-03-05T08:07:58.834873Z",
     "start_time": "2025-03-05T08:07:58.827211Z"
    }
   },
   "id": "3b809f70390291c",
   "outputs": [
    {
     "data": {
      "text/plain": [
       "     ┌───┐     \n",
       "q_0: ┤ X ├─────\n",
       "     ├───┤     \n",
       "q_1: ┤ Y ├─────\n",
       "     ├───┤     \n",
       "q_2: ┤ X ├─────\n",
       "     ├───┤┌───┐\n",
       "q_3: ┤ Z ├┤ H ├\n",
       "     └───┘└───┘"
      ],
      "text/html": [
       "<pre style=\"word-wrap: normal;white-space: pre;background: #fff0;line-height: 1.1;font-family: &quot;Courier New&quot;,Courier,monospace\">     ┌───┐     \n",
       "q_0: ┤ X ├─────\n",
       "     ├───┤     \n",
       "q_1: ┤ Y ├─────\n",
       "     ├───┤     \n",
       "q_2: ┤ X ├─────\n",
       "     ├───┤┌───┐\n",
       "q_3: ┤ Z ├┤ H ├\n",
       "     └───┘└───┘</pre>"
      ]
     },
     "execution_count": 6,
     "metadata": {},
     "output_type": "execute_result"
    }
   ],
   "execution_count": 6
  },
  {
   "cell_type": "code",
   "source": [
    "inst = qc_b.to_instruction()\n",
    "qc_a.append(inst, [1, 2])\n",
    "qc_a.draw(\"mpl\")"
   ],
   "metadata": {
    "collapsed": false,
    "ExecuteTime": {
     "end_time": "2025-03-05T08:07:58.902132Z",
     "start_time": "2025-03-05T08:07:58.849089Z"
    }
   },
   "id": "eb594a7fb96c6f7e",
   "outputs": [
    {
     "data": {
      "text/plain": [
       "<Figure size 287.496x367.889 with 1 Axes>"
      ],
      "image/png": "[encoded data removed]"
     },
     "execution_count": 7,
     "metadata": {},
     "output_type": "execute_result"
    }
   ],
   "execution_count": 7
  },
  {
   "cell_type": "code",
   "source": [
    "qc_b.draw('mpl')"
   ],
   "metadata": {
    "collapsed": false,
    "ExecuteTime": {
     "end_time": "2025-03-05T08:07:58.965801Z",
     "start_time": "2025-03-05T08:07:58.925517Z"
    }
   },
   "id": "35f81122861e916f",
   "outputs": [
    {
     "data": {
      "text/plain": [
       "<Figure size 203.683x200.667 with 1 Axes>"
      ],
      "image/png": "[encoded data removed]"
     },
     "execution_count": 8,
     "metadata": {},
     "output_type": "execute_result"
    }
   ],
   "execution_count": 8
  },
  {
   "cell_type": "code",
   "source": [
    "gate = qc_b.to_gate().control()\n",
    "qc_a.append(gate, [2, 1, 3])\n",
    "qc_a.draw(\"mpl\")\n"
   ],
   "metadata": {
    "collapsed": false,
    "ExecuteTime": {
     "end_time": "2025-03-05T08:07:59.081692Z",
     "start_time": "2025-03-05T08:07:58.978238Z"
    }
   },
   "id": "d9033e01a7e16184",
   "outputs": [
    {
     "data": {
      "text/plain": [
       "<Figure size 454.719x367.889 with 1 Axes>"
      ],
      "image/png": "[encoded data removed]"
     },
     "execution_count": 9,
     "metadata": {},
     "output_type": "execute_result"
    }
   ],
   "execution_count": 9
  },
  {
   "cell_type": "code",
   "source": [
    "qc_a.decompose().draw(\"mpl\")"
   ],
   "metadata": {
    "collapsed": false,
    "ExecuteTime": {
     "end_time": "2025-03-05T08:07:59.209937Z",
     "start_time": "2025-03-05T08:07:59.091752Z"
    }
   },
   "id": "f178f2d3cbd83130",
   "outputs": [
    {
     "data": {
      "text/plain": [
       "<Figure size 538.33x367.889 with 1 Axes>"
      ],
      "image/png": "[encoded data removed]"
     },
     "execution_count": 10,
     "metadata": {},
     "output_type": "execute_result"
    }
   ],
   "execution_count": 10
  },
  {
   "cell_type": "code",
   "source": [
    "from qiskit.circuit import Parameter\n",
    "angle = Parameter(\"angle\")  # undefined number\n",
    " \n",
    "# Create and optimize circuit once\n",
    "qc = QuantumCircuit(1)\n",
    "qc.rx(angle, 0)\n",
    "qc.draw(\"mpl\")"
   ],
   "metadata": {
    "collapsed": false,
    "ExecuteTime": {
     "end_time": "2025-03-05T08:07:59.476041Z",
     "start_time": "2025-03-05T08:07:59.230810Z"
    }
   },
   "id": "548d7ff4297c4541",
   "outputs": [
    {
     "data": {
      "text/plain": [
       "<Figure size 185.453x117.056 with 1 Axes>"
      ],
      "image/png": "[encoded data removed]"
     },
     "execution_count": 11,
     "metadata": {},
     "output_type": "execute_result"
    }
   ],
   "execution_count": 11
  },
  {
   "cell_type": "code",
   "source": [
    "from qiskit.transpiler.preset_passmanagers import generate_preset_pass_manager\n",
    "qc = generate_preset_pass_manager(optimization_level=3, basis_gates=['u', 'cx']).run(qc)\n",
    " \n",
    "qc.draw(\"mpl\")"
   ],
   "metadata": {
    "collapsed": false,
    "ExecuteTime": {
     "end_time": "2025-03-05T08:07:59.944189Z",
     "start_time": "2025-03-05T08:07:59.492009Z"
    }
   },
   "id": "cfd2b4c9f8c7e78e",
   "outputs": [
    {
     "data": {
      "text/plain": [
       "<Figure size 269.064x117.056 with 1 Axes>"
      ],
      "image/png": "[encoded data removed]"
     },
     "execution_count": 12,
     "metadata": {},
     "output_type": "execute_result"
    }
   ],
   "execution_count": 12
  },
  {
   "cell_type": "code",
   "source": [
    "circuits = []\n",
    "for value in range(100):\n",
    "    circuits.append(\n",
    "        qc.assign_parameters({ angle: value })\n",
    "    )\n",
    "circuits[0].draw(\"mpl\")"
   ],
   "metadata": {
    "collapsed": false,
    "ExecuteTime": {
     "end_time": "2025-03-05T08:07:59.998848Z",
     "start_time": "2025-03-05T08:07:59.955853Z"
    }
   },
   "id": "cb2421eb65b4255d",
   "outputs": [
    {
     "data": {
      "text/plain": [
       "<Figure size 269.064x117.056 with 1 Axes>"
      ],
      "image/png": "[encoded data removed]"
     },
     "execution_count": 13,
     "metadata": {},
     "output_type": "execute_result"
    }
   ],
   "execution_count": 13
  },
  {
   "cell_type": "code",
   "source": [
    "circuits[1].draw(\"mpl\")"
   ],
   "metadata": {
    "collapsed": false,
    "ExecuteTime": {
     "end_time": "2025-03-05T08:08:00.062996Z",
     "start_time": "2025-03-05T08:08:00.022985Z"
    }
   },
   "id": "e1d570ed629eb88f",
   "outputs": [
    {
     "data": {
      "text/plain": [
       "<Figure size 269.064x117.056 with 1 Axes>"
      ],
      "image/png": "[encoded data removed]"
     },
     "execution_count": 14,
     "metadata": {},
     "output_type": "execute_result"
    }
   ],
   "execution_count": 14
  },
  {
   "cell_type": "code",
   "source": [
    "qc.parameters"
   ],
   "metadata": {
    "collapsed": false,
    "ExecuteTime": {
     "end_time": "2025-03-05T08:08:00.079881Z",
     "start_time": "2025-03-05T08:08:00.075981Z"
    }
   },
   "id": "341f1412bffa870e",
   "outputs": [
    {
     "data": {
      "text/plain": [
       "ParameterView([Parameter(angle)])"
      ]
     },
     "execution_count": 15,
     "metadata": {},
     "output_type": "execute_result"
    }
   ],
   "execution_count": 15
  },
  {
   "cell_type": "code",
   "source": [],
   "metadata": {
    "collapsed": false,
    "ExecuteTime": {
     "end_time": "2025-03-05T08:08:00.102889Z",
     "start_time": "2025-03-05T08:08:00.101036Z"
    }
   },
   "id": "777a30031e1a5262",
   "outputs": [],
   "execution_count": null
  }
 ],
 "metadata": {
  "kernelspec": {
   "display_name": "Python 3",
   "language": "python",
   "name": "python3"
  },
  "language_info": {
   "codemirror_mode": {
    "name": "ipython",
    "version": 2
   },
   "file_extension": ".py",
   "mimetype": "text/x-python",
   "name": "python",
   "nbconvert_exporter": "python",
   "pygments_lexer": "ipython2",
   "version": "2.7.6"
  }
 },
 "nbformat": 4,
 "nbformat_minor": 5
}
