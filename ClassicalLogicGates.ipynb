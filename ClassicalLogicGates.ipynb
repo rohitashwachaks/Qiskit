{
 "cells": [
  {
   "cell_type": "code",
   "metadata": {
    "ExecuteTime": {
     "end_time": "2025-03-05T23:43:39.967797Z",
     "start_time": "2025-03-05T23:43:39.671130Z"
    }
   },
   "source": [
    "import qiskit\n",
    "from qiskit import QuantumCircuit\n",
    "from qiskit_aer import Aer\n",
    "from qiskit.visualization import plot_histogram"
   ],
   "outputs": [],
   "execution_count": 1
  },
  {
   "cell_type": "code",
   "metadata": {
    "ExecuteTime": {
     "end_time": "2025-03-05T23:43:40.051226Z",
     "start_time": "2025-03-05T23:43:40.049031Z"
    }
   },
   "source": [
    "# Use Aer's qasm_simulator\n",
    "simulator = Aer.get_backend('qasm_simulator')\n",
    "# simulator = Aer.get_backend('statevector_simulator')"
   ],
   "outputs": [],
   "execution_count": 2
  },
  {
   "cell_type": "markdown",
   "metadata": {},
   "source": [
    "# Circuit Simulation"
   ]
  },
  {
   "cell_type": "code",
   "metadata": {
    "ExecuteTime": {
     "end_time": "2025-03-05T23:54:39.284788Z",
     "start_time": "2025-03-05T23:54:39.280850Z"
    }
   },
   "source": [
    "from qiskit_aer import Aer\n",
    "from qiskit import transpile\n",
    "\n",
    "def CircuitSimulation(circuit):\n",
    "\n",
    "    # Execute the circuit on the qasm simulator\n",
    "    new_circuit = transpile(circuit, simulator)\n",
    "\n",
    "    # Grab results from the job\n",
    "    result = simulator.run(new_circuit)\n",
    "\n",
    "    # Returns counts\n",
    "    counts= 0\n",
    "    # counts = result.get_counts(circuit)\n",
    "    # print(\"\\nTotal counts are:\",counts)\n",
    "    \n",
    "    return counts, result\n"
   ],
   "outputs": [],
   "execution_count": 23
  },
  {
   "cell_type": "markdown",
   "metadata": {},
   "source": [
    "# NOT Gate"
   ]
  },
  {
   "cell_type": "code",
   "metadata": {
    "ExecuteTime": {
     "end_time": "2025-03-05T23:54:40.128278Z",
     "start_time": "2025-03-05T23:54:40.103063Z"
    }
   },
   "source": [
    "circuit = QuantumCircuit(1,1)  # Create a quantum circuit with one qubit and one classical bit\n",
    "\n",
    "circuit.h(0)  # Apply a H-gate to the 0th qubit\n",
    "\n",
    "circuit.barrier()  # This is just for visual separation. Optimisers ensure that different sections are not combined.\n",
    "\n",
    "circuit.x(0) # Apply a X-gate to the 0th qubit\n",
    "\n",
    "circuit.barrier()\n",
    "\n",
    "circuit.measure(0,0)  # Measure the 0th qubit to the 0th classical bit\n",
    "\n",
    "# Draw the circuit\n",
    "circuit.draw('mpl')"
   ],
   "outputs": [
    {
     "data": {
      "text/plain": [
       "<Figure size 519.897x200.667 with 1 Axes>"
      ],
      "image/png": "[encoded data removed]"
     },
     "execution_count": 24,
     "metadata": {},
     "output_type": "execute_result"
    }
   ],
   "execution_count": 24
  },
  {
   "cell_type": "code",
   "metadata": {
    "ExecuteTime": {
     "end_time": "2025-03-05T23:54:53.517632Z",
     "start_time": "2025-03-05T23:54:53.470657Z"
    }
   },
   "source": [
    "counts,_ = CircuitSimulation(circuit)\n",
    "_\n",
    "# Plot a histogram\n",
    "# plot_histogram(counts)"
   ],
   "outputs": [
    {
     "data": {
      "text/plain": [
       "<qiskit_aer.jobs.aerjob.AerJob at 0x121bd2110>"
      ]
     },
     "execution_count": 27,
     "metadata": {},
     "output_type": "execute_result"
    }
   ],
   "execution_count": 27
  },
  {
   "cell_type": "markdown",
   "metadata": {},
   "source": [
    "# AND Gate"
   ]
  },
  {
   "cell_type": "code",
   "execution_count": 6,
   "metadata": {
    "ExecuteTime": {
     "end_time": "2025-03-05T08:08:53.867942Z",
     "start_time": "2024-06-10T02:02:40.482964Z"
    }
   },
   "outputs": [
    {
     "ename": "NameError",
     "evalue": "name 'QuantumCircuit' is not defined",
     "output_type": "error",
     "traceback": [
      "\u001B[0;31m---------------------------------------------------------------------------\u001B[0m",
      "\u001B[0;31mNameError\u001B[0m                                 Traceback (most recent call last)",
      "Cell \u001B[0;32mIn[6], line 1\u001B[0m\n\u001B[0;32m----> 1\u001B[0m circuit \u001B[38;5;241m=\u001B[39m \u001B[43mQuantumCircuit\u001B[49m(\u001B[38;5;241m3\u001B[39m,\u001B[38;5;241m1\u001B[39m)\n\u001B[1;32m      3\u001B[0m circuit\u001B[38;5;241m.\u001B[39mh(\u001B[38;5;241m0\u001B[39m)\n\u001B[1;32m      4\u001B[0m circuit\u001B[38;5;241m.\u001B[39mh(\u001B[38;5;241m1\u001B[39m)\n",
      "\u001B[0;31mNameError\u001B[0m: name 'QuantumCircuit' is not defined"
     ]
    }
   ],
   "source": [
    "circuit = QuantumCircuit(3,1)\n",
    "\n",
    "circuit.h(0)\n",
    "circuit.h(1)\n",
    "\n",
    "circuit.barrier()\n",
    "\n",
    "circuit.ccx(0, 1, 2)\n",
    "\n",
    "circuit.barrier()\n",
    "\n",
    "circuit.measure(2,0)\n",
    "\n",
    "# Draw the circuit\n",
    "circuit.draw('mpl')"
   ]
  },
  {
   "cell_type": "code",
   "execution_count": null,
   "metadata": {
    "ExecuteTime": {
     "end_time": "2025-03-05T08:08:53.868342Z",
     "start_time": "2024-06-10T02:02:40.496297Z"
    }
   },
   "outputs": [],
   "source": [
    "counts,_ = CircuitSimulation(circuit)\n",
    "\n",
    "# Plot a histogram\n",
    "plot_histogram(counts)"
   ]
  },
  {
   "cell_type": "markdown",
   "metadata": {},
   "source": [
    "# NAND Gate"
   ]
  },
  {
   "cell_type": "code",
   "execution_count": 7,
   "metadata": {
    "ExecuteTime": {
     "end_time": "2025-03-05T08:08:53.868460Z",
     "start_time": "2024-06-10T02:02:40.503657Z"
    }
   },
   "outputs": [
    {
     "ename": "NameError",
     "evalue": "name 'QuantumCircuit' is not defined",
     "output_type": "error",
     "traceback": [
      "\u001B[0;31m---------------------------------------------------------------------------\u001B[0m",
      "\u001B[0;31mNameError\u001B[0m                                 Traceback (most recent call last)",
      "Cell \u001B[0;32mIn[7], line 1\u001B[0m\n\u001B[0;32m----> 1\u001B[0m circuit \u001B[38;5;241m=\u001B[39m \u001B[43mQuantumCircuit\u001B[49m(\u001B[38;5;241m3\u001B[39m,\u001B[38;5;241m1\u001B[39m)\n\u001B[1;32m      3\u001B[0m circuit\u001B[38;5;241m.\u001B[39mh(\u001B[38;5;241m0\u001B[39m)\n\u001B[1;32m      4\u001B[0m circuit\u001B[38;5;241m.\u001B[39mh(\u001B[38;5;241m1\u001B[39m)\n",
      "\u001B[0;31mNameError\u001B[0m: name 'QuantumCircuit' is not defined"
     ]
    }
   ],
   "source": [
    "circuit = QuantumCircuit(3,1)\n",
    "\n",
    "circuit.h(0)\n",
    "circuit.h(1)\n",
    "\n",
    "circuit.barrier()\n",
    "\n",
    "circuit.ccx(0, 1, 2)\n",
    "circuit.x(2)\n",
    "\n",
    "circuit.barrier()\n",
    "\n",
    "circuit.measure(2,0)\n",
    "\n",
    "#Draw Circuit\n",
    "circuit.draw('mpl')"
   ]
  },
  {
   "cell_type": "code",
   "execution_count": 8,
   "metadata": {
    "ExecuteTime": {
     "end_time": "2025-03-05T08:08:53.868629Z",
     "start_time": "2024-06-10T02:02:40.534009Z"
    }
   },
   "outputs": [
    {
     "ename": "NameError",
     "evalue": "name 'CircuitSimulation' is not defined",
     "output_type": "error",
     "traceback": [
      "\u001B[0;31m---------------------------------------------------------------------------\u001B[0m",
      "\u001B[0;31mNameError\u001B[0m                                 Traceback (most recent call last)",
      "Cell \u001B[0;32mIn[8], line 1\u001B[0m\n\u001B[0;32m----> 1\u001B[0m counts,_ \u001B[38;5;241m=\u001B[39m \u001B[43mCircuitSimulation\u001B[49m(circuit)\n\u001B[1;32m      3\u001B[0m \u001B[38;5;66;03m# Plot a histogram\u001B[39;00m\n\u001B[1;32m      4\u001B[0m plot_histogram(counts)\n",
      "\u001B[0;31mNameError\u001B[0m: name 'CircuitSimulation' is not defined"
     ]
    }
   ],
   "source": [
    "counts,_ = CircuitSimulation(circuit)\n",
    "\n",
    "# Plot a histogram\n",
    "plot_histogram(counts)"
   ]
  },
  {
   "cell_type": "markdown",
   "metadata": {},
   "source": [
    "# OR Gate"
   ]
  },
  {
   "cell_type": "code",
   "execution_count": 9,
   "metadata": {
    "ExecuteTime": {
     "end_time": "2025-03-05T08:08:53.868752Z",
     "start_time": "2024-06-10T02:02:40.589613Z"
    }
   },
   "outputs": [
    {
     "ename": "NameError",
     "evalue": "name 'QuantumCircuit' is not defined",
     "output_type": "error",
     "traceback": [
      "\u001B[0;31m---------------------------------------------------------------------------\u001B[0m",
      "\u001B[0;31mNameError\u001B[0m                                 Traceback (most recent call last)",
      "Cell \u001B[0;32mIn[9], line 1\u001B[0m\n\u001B[0;32m----> 1\u001B[0m circuit \u001B[38;5;241m=\u001B[39m \u001B[43mQuantumCircuit\u001B[49m(\u001B[38;5;241m3\u001B[39m,\u001B[38;5;241m1\u001B[39m)\n\u001B[1;32m      3\u001B[0m circuit\u001B[38;5;241m.\u001B[39mh(\u001B[38;5;241m0\u001B[39m)\n\u001B[1;32m      4\u001B[0m circuit\u001B[38;5;241m.\u001B[39mh(\u001B[38;5;241m1\u001B[39m)\n",
      "\u001B[0;31mNameError\u001B[0m: name 'QuantumCircuit' is not defined"
     ]
    }
   ],
   "source": [
    "circuit = QuantumCircuit(3,1)\n",
    "\n",
    "circuit.h(0)\n",
    "circuit.h(1)\n",
    "\n",
    "circuit.barrier()\n",
    "\n",
    "circuit.x(0)\n",
    "circuit.x(1)\n",
    "circuit.ccx(0, 1, 2)\n",
    "circuit.x(2)\n",
    "\n",
    "circuit.barrier()\n",
    "\n",
    "circuit.measure(2,0)\n",
    "\n",
    "#Draw Circuit\n",
    "circuit.draw('mpl')"
   ]
  },
  {
   "cell_type": "code",
   "execution_count": 10,
   "metadata": {
    "ExecuteTime": {
     "end_time": "2025-03-05T08:08:53.868853Z",
     "start_time": "2024-06-10T02:02:40.652360Z"
    }
   },
   "outputs": [
    {
     "ename": "NameError",
     "evalue": "name 'CircuitSimulation' is not defined",
     "output_type": "error",
     "traceback": [
      "\u001B[0;31m---------------------------------------------------------------------------\u001B[0m",
      "\u001B[0;31mNameError\u001B[0m                                 Traceback (most recent call last)",
      "Cell \u001B[0;32mIn[10], line 1\u001B[0m\n\u001B[0;32m----> 1\u001B[0m counts,_ \u001B[38;5;241m=\u001B[39m \u001B[43mCircuitSimulation\u001B[49m(circuit)\n\u001B[1;32m      3\u001B[0m \u001B[38;5;66;03m# Plot a histogram\u001B[39;00m\n\u001B[1;32m      4\u001B[0m plot_histogram(counts)\n",
      "\u001B[0;31mNameError\u001B[0m: name 'CircuitSimulation' is not defined"
     ]
    }
   ],
   "source": [
    "counts,_ = CircuitSimulation(circuit)\n",
    "\n",
    "# Plot a histogram\n",
    "plot_histogram(counts)"
   ]
  },
  {
   "cell_type": "markdown",
   "metadata": {},
   "source": [
    "# XOR Gate"
   ]
  },
  {
   "cell_type": "code",
   "execution_count": 11,
   "metadata": {
    "ExecuteTime": {
     "end_time": "2025-03-05T08:08:53.868962Z",
     "start_time": "2024-06-10T02:02:40.686552Z"
    }
   },
   "outputs": [
    {
     "ename": "NameError",
     "evalue": "name 'QuantumCircuit' is not defined",
     "output_type": "error",
     "traceback": [
      "\u001B[0;31m---------------------------------------------------------------------------\u001B[0m",
      "\u001B[0;31mNameError\u001B[0m                                 Traceback (most recent call last)",
      "Cell \u001B[0;32mIn[11], line 1\u001B[0m\n\u001B[0;32m----> 1\u001B[0m circuit \u001B[38;5;241m=\u001B[39m \u001B[43mQuantumCircuit\u001B[49m(\u001B[38;5;241m2\u001B[39m,\u001B[38;5;241m2\u001B[39m)\n\u001B[1;32m      3\u001B[0m circuit\u001B[38;5;241m.\u001B[39mh(\u001B[38;5;241m0\u001B[39m)\n\u001B[1;32m      4\u001B[0m \u001B[38;5;66;03m# circuit.h(1)\u001B[39;00m\n",
      "\u001B[0;31mNameError\u001B[0m: name 'QuantumCircuit' is not defined"
     ]
    }
   ],
   "source": [
    "circuit = QuantumCircuit(2,2)\n",
    "\n",
    "circuit.h(0)\n",
    "# circuit.h(1)\n",
    "\n",
    "circuit.barrier()\n",
    "\n",
    "circuit.cx(0, 1)\n",
    "\n",
    "circuit.barrier()\n",
    "\n",
    "circuit.measure(0,0)\n",
    "circuit.measure(1,1)\n",
    "\n",
    "#Draw Circuit\n",
    "circuit.draw('mpl')"
   ]
  },
  {
   "cell_type": "code",
   "execution_count": null,
   "metadata": {
    "ExecuteTime": {
     "end_time": "2025-03-05T08:08:53.869054Z",
     "start_time": "2024-06-10T02:02:40.691028Z"
    }
   },
   "outputs": [],
   "source": [
    "counts,result = CircuitSimulation(circuit)\n",
    "\n",
    "# Plot a histogram\n",
    "plot_histogram(counts)"
   ]
  },
  {
   "cell_type": "markdown",
   "metadata": {},
   "source": [
    "## OTHER Basic Gates\n",
    "- **XNOR:**    NOT-XOR\n",
    "- **NAND:**    NOT-AND\n",
    "- **NOR :**    NOT-OR"
   ]
  },
  {
   "cell_type": "code",
   "execution_count": 11,
   "metadata": {
    "ExecuteTime": {
     "end_time": "2025-03-05T08:08:53.869175Z",
     "start_time": "2024-06-10T02:02:40.711133Z"
    }
   },
   "outputs": [],
   "source": []
  }
 ],
 "metadata": {
  "kernelspec": {
   "display_name": "Python 3",
   "language": "python",
   "name": "python3"
  },
  "language_info": {
   "codemirror_mode": {
    "name": "ipython",
    "version": 3
   },
   "file_extension": ".py",
   "mimetype": "text/x-python",
   "name": "python",
   "nbconvert_exporter": "python",
   "pygments_lexer": "ipython3",
   "version": "3.9.7"
  }
 },
 "nbformat": 4,
 "nbformat_minor": 4
}
